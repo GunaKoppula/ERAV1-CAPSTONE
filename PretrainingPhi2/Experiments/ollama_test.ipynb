{
 "cells": [
  {
   "cell_type": "code",
   "execution_count": 1,
   "id": "71a95f59-465e-4e58-b2d2-95e8ef02f480",
   "metadata": {},
   "outputs": [],
   "source": [
    "from ollama import Client"
   ]
  },
  {
   "cell_type": "code",
   "execution_count": 8,
   "id": "3d0ce96c-9cec-4fe5-844a-3f08723485d9",
   "metadata": {},
   "outputs": [],
   "source": [
    "message = {'role': 'user', 'content': 'why is ice dark?'}\n",
    "client = Client(base_url=\"http://127.0.0.1:8008\")"
   ]
  },
  {
   "cell_type": "code",
   "execution_count": 9,
   "id": "fa9441e2-3a1d-41cb-95b7-57958abca138",
   "metadata": {},
   "outputs": [],
   "source": [
    "response = client.chat(model='phi', messages=[message])"
   ]
  },
  {
   "cell_type": "code",
   "execution_count": 10,
   "id": "6f59ad45-53db-412d-82ea-a67dc756b316",
   "metadata": {},
   "outputs": [
    {
     "data": {
      "text/plain": [
       "{'model': 'phi',\n",
       " 'created_at': '2024-01-18T11:29:11.812362341Z',\n",
       " 'message': {'role': 'assistant',\n",
       "  'content': \" Ice appears dark because it reflects very little light, while its surface absorbs most of it. When sunlight hits the surface of ice, some of the energy is absorbed by the molecules in the ice, which then re-emits that energy as heat. This process causes the ice to appear dark and dull, unlike snow or other types of white surfaces that reflect more light back into the environment.\\n\\nAdditionally, since ice is made up of frozen water molecules arranged in a crystalline structure, it has a relatively low refractive index compared to liquids like water. Refraction refers to how much light bends when it passes through a medium, and ice's lower refractive index causes it to scatter more light, giving the appearance of darkness or lack of color.\\n\\nIn summary, the dark appearance of ice is due to its absorption of light energy and scattering properties.\\n\"},\n",
       " 'done': True,\n",
       " 'total_duration': 18159306558,\n",
       " 'load_duration': 452635,\n",
       " 'prompt_eval_count': 8,\n",
       " 'prompt_eval_duration': 688976000,\n",
       " 'eval_count': 174,\n",
       " 'eval_duration': 17459936000}"
      ]
     },
     "execution_count": 10,
     "metadata": {},
     "output_type": "execute_result"
    }
   ],
   "source": [
    "response"
   ]
  },
  {
   "cell_type": "code",
   "execution_count": 14,
   "id": "ea583522-5598-47a5-aef1-3ad9e1710945",
   "metadata": {},
   "outputs": [],
   "source": [
    "from datasets import IterableDataset"
   ]
  },
  {
   "cell_type": "code",
   "execution_count": 68,
   "id": "03034aff-5462-4cd2-928b-9ec61af3636d",
   "metadata": {},
   "outputs": [],
   "source": [
    "import json\n",
    "import random"
   ]
  },
  {
   "cell_type": "code",
   "execution_count": 73,
   "id": "83261022-b498-4ff2-b144-8389e88def18",
   "metadata": {},
   "outputs": [],
   "source": [
    "with open(\"vocab.json\", \"rb\") as f:\n",
    "    vocab_data = json.load(f)\n",
    "ALL_TOKENS = [token for token in vocab_data.keys() if len(token)>3]\n",
    "ALL_TOKENS = [token[1:] for token in ALL_TOKENS if token.startswith(\"Ġ\")]\n",
    "\n",
    "def get_random_token():\n",
    "    return random.choice(ALL_TOKENS)"
   ]
  },
  {
   "cell_type": "code",
   "execution_count": 74,
   "id": "9390a8ac-7f6e-406b-9db0-0e5cabab1983",
   "metadata": {},
   "outputs": [],
   "source": [
    "def data_from_phi():\n",
    "    word = get_random_token()\n",
    "    message = {'role': 'user', 'content': f'tell me about the word {word} in 50 words'}\n",
    "    response = client.chat(model='phi', messages=[message])\n",
    "    content = response[\"message\"][\"content\"]\n",
    "    return content"
   ]
  },
  {
   "cell_type": "code",
   "execution_count": 75,
   "id": "88ecfca5-0cad-4b8a-a580-65645d09f04f",
   "metadata": {},
   "outputs": [],
   "source": [
    "import uuid\n",
    "\n",
    "class _DatasetGeneratorPickle:\n",
    "    def __init__(self, generator, generator_id=None):\n",
    "        self.generator = generator\n",
    "        self.generator_id = (\n",
    "            generator_id if generator_id is not None else str(uuid.uuid4())\n",
    "        )\n",
    "\n",
    "    def __call__(self, *args, **kwargs):\n",
    "        return self.generator(*args, **kwargs)\n",
    "\n",
    "    def __reduce__(self):\n",
    "        return (_DatasetGeneratorPickle_raise, (self.generator_id,))\n",
    "\n",
    "\n",
    "def _DatasetGeneratorPickle_raise(*args, **kwargs):\n",
    "    raise AssertionError(\"cannot actually unpickle _DatasetGeneratorPickle!\")"
   ]
  },
  {
   "cell_type": "code",
   "execution_count": 76,
   "id": "d7f0a26f-df21-45fa-b0c8-a969e064f1ea",
   "metadata": {},
   "outputs": [
    {
     "name": "stdout",
     "output_type": "stream",
     "text": [
      "{'col_1': \" Constraints or boundaries, limits, or restrictions on something. They can be physical limitations (like a fence) or mental/emotional barriers (like fear). Constraints can be both positive and negative - they can limit our choices but also help us focus on what's important. #Constraints\\n\"}\n",
      "{'col_1': \" Conven is a term that refers to ease of use or comfortability. It can also mean a state of being comfortable or at ease, such as when everything is organized and easy to access. In general, it's used to describe something that makes life easier or more comfortable for the user. #Convenience #EaseOfUse\\n\"}\n",
      "{'col_1': ' Subdivision is the process of dividing something into smaller parts or sections. It can refer to physical land divisions, such as parcels of land divided for residential or commercial use, or it can refer to language, where words are divided into syllables or phonemes. In computer science, it can also refer to breaking up data into smaller pieces for efficient storage and processing.\\n'}\n",
      "{'col_1': ' Padding refers to adding extra spaces, symbols or characters to increase the length of a string. It is commonly used in text processing algorithms and data compression techniques. In programming languages like HTML, CSS and JavaScript, padding is often used for styling purposes, such as creating borders around elements or aligning text in columns. Padding can also be used to improve readability and make code more concise by removing trailing whitespace from strings. Overall, padding is a useful tool that helps optimize the performance of algorithms and enhance the user experience on websites and applications.\\n'}\n",
      "{'col_1': \" The word 'serving' can have multiple meanings, but generally it refers to something that is prepared or brought out for consumption. It can also mean to perform a duty or obligation on behalf of someone else, like being a waiter who serves food to customers. In some contexts, it may also refer to the act of serving in the military or as a diplomat.\\n\"}\n",
      "{'col_1': \" Awards are given to recognize outstanding achievements or contributions in various fields, such as arts, sports, education, and entertainment. They can be prestigious, valuable, or symbolic tokens of recognition and honor that inspire others to strive for excellence and contribute to society's betterment.\\n\"}\n",
      "{'col_1': ' An Emotional Processing Machine (EMP) is an AI system that can interpret emotions from text, voice, and facial expressions, allowing it to respond appropriately to human interactions. It uses machine learning algorithms to identify patterns in emotional data and generate appropriate responses based on context. The goal of EMPs is to improve communication between humans and machines by creating more natural and meaningful conversations.\\n'}\n",
      "{'col_1': ' Sure, \"judge\" is a noun that means someone who decides if someone else has done something wrong or not. It can also refer to the person who presides over court proceedings and decides on legal matters. Additionally, it can be used as an adjective to describe someone who makes decisions about the quality of things.\\n'}\n",
      "{'col_1': \" Windows is a type of computer operating system, created by Microsoft. It's used on personal computers, laptops, tablets, and other devices. It's known for its user-friendly interface and support for a wide variety of applications. Windows has been around since 1985 and continues to be one of the most popular operating systems in use today.\\n\"}\n",
      "{'col_1': ' Industry refers to economic activity or a group of businesses producing goods or services for sale. It can also refer to a specific type of work or occupation, such as the automotive industry or the entertainment industry. Industries can be large or small and may involve manufacturing, technology, or other types of production. The term industry is used to describe any sector of the economy that involves the creation and distribution of goods or services.\\n'}\n"
     ]
    }
   ],
   "source": [
    "def my_generator(n, *args, **kwargs):\n",
    "    for i in range(n):\n",
    "        content = data_from_phi()\n",
    "        \n",
    "        yield {\"col_1\": content}\n",
    "\n",
    "my_iterable_dataset = IterableDataset.from_generator(_DatasetGeneratorPickle(my_generator), gen_kwargs={\"n\": 10})\n",
    "for example in my_iterable_dataset:\n",
    "    print(example)"
   ]
  },
  {
   "cell_type": "code",
   "execution_count": null,
   "id": "df4befa1-9c48-46b1-bc40-958c61a59e9c",
   "metadata": {},
   "outputs": [],
   "source": []
  }
 ],
 "metadata": {
  "kernelspec": {
   "display_name": "Python 3 (ipykernel)",
   "language": "python",
   "name": "python3"
  },
  "language_info": {
   "codemirror_mode": {
    "name": "ipython",
    "version": 3
   },
   "file_extension": ".py",
   "mimetype": "text/x-python",
   "name": "python",
   "nbconvert_exporter": "python",
   "pygments_lexer": "ipython3",
   "version": "3.10.12"
  }
 },
 "nbformat": 4,
 "nbformat_minor": 5
}
