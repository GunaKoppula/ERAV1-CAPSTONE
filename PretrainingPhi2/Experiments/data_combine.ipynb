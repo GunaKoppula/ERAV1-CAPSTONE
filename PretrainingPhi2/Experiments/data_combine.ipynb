{
 "cells": [
  {
   "cell_type": "code",
   "execution_count": 6,
   "id": "2b54ca19-e78a-4e7b-be0a-6c85f4907b01",
   "metadata": {},
   "outputs": [],
   "source": [
    "import json\n",
    "import random\n",
    "import uuid\n",
    "from ollama import Client\n",
    "from datasets import load_dataset, IterableDataset, Dataset\n",
    "from datasets import interleave_datasets"
   ]
  },
  {
   "cell_type": "code",
   "execution_count": 3,
   "id": "8a4ff534-545b-4426-bd03-d889acb45c90",
   "metadata": {},
   "outputs": [],
   "source": [
    "client = Client(base_url=\"http://127.0.0.1:8008\")"
   ]
  },
  {
   "cell_type": "code",
   "execution_count": 4,
   "id": "94793262-5d92-48fc-b040-169365240bec",
   "metadata": {},
   "outputs": [],
   "source": [
    "with open(\"vocab.json\", \"rb\") as f:\n",
    "    vocab_data = json.load(f)\n",
    "ALL_TOKENS = [token for token in vocab_data.keys() if len(token)>3]\n",
    "ALL_TOKENS = [token[1:] for token in ALL_TOKENS if token.startswith(\"Ġ\")]\n",
    "\n",
    "def get_random_token():\n",
    "    return random.choice(ALL_TOKENS)"
   ]
  },
  {
   "cell_type": "code",
   "execution_count": 5,
   "id": "833f3fde-575f-4121-9b46-c6f4dfb5a59d",
   "metadata": {},
   "outputs": [],
   "source": [
    "def data_from_phi():\n",
    "    word = get_random_token()\n",
    "    message = {'role': 'user', 'content': f'tell me about the word {word} in 50 words'}\n",
    "    response = client.chat(model='phi', messages=[message])\n",
    "    content = response[\"message\"][\"content\"]\n",
    "    return content\n",
    "\n",
    "class _DatasetGeneratorPickle:\n",
    "    def __init__(self, generator, generator_id=None):\n",
    "        self.generator = generator\n",
    "        self.generator_id = (\n",
    "            generator_id if generator_id is not None else str(uuid.uuid4())\n",
    "        )\n",
    "\n",
    "    def __call__(self, *args, **kwargs):\n",
    "        return self.generator(*args, **kwargs)\n",
    "\n",
    "    def __reduce__(self):\n",
    "        return (_DatasetGeneratorPickle_raise, (self.generator_id,))\n",
    "\n",
    "\n",
    "def _DatasetGeneratorPickle_raise(*args, **kwargs):\n",
    "    raise AssertionError(\"cannot actually unpickle _DatasetGeneratorPickle!\")\n",
    "\n",
    "def phi_data_generator(n, *args, **kwargs):\n",
    "    for i in range(n):\n",
    "        content = data_from_phi()\n",
    "        yield {\"text\": content}"
   ]
  },
  {
   "cell_type": "code",
   "execution_count": 8,
   "id": "738eea0f-287b-4ff1-862a-fb88748c7811",
   "metadata": {},
   "outputs": [
    {
     "name": "stderr",
     "output_type": "stream",
     "text": [
      "/home/ravi.naik/miniconda3/envs/torchenv/lib/python3.10/site-packages/huggingface_hub/repocard.py:105: UserWarning: Repo card metadata block was not found. Setting CardData to empty.\n",
      "  warnings.warn(\"Repo card metadata block was not found. Setting CardData to empty.\")\n"
     ]
    }
   ],
   "source": [
    "phi2_gen_dataset = IterableDataset.from_generator(_DatasetGeneratorPickle(phi_data_generator),\n",
    "                                                  gen_kwargs={\"n\": 10})\n",
    "tiny_stories_dataset = load_dataset(\"roneneldan/TinyStories\", split=\"train\", streaming=True)"
   ]
  },
  {
   "cell_type": "code",
   "execution_count": 9,
   "id": "15974ed1-d042-4a26-929d-cd39f369a2ff",
   "metadata": {},
   "outputs": [],
   "source": [
    "dataset = interleave_datasets([phi2_gen_dataset, tiny_stories_dataset])"
   ]
  },
  {
   "cell_type": "code",
   "execution_count": 11,
   "id": "19ebe0aa-3273-434f-aa68-b2359c9a28b4",
   "metadata": {},
   "outputs": [
    {
     "name": "stdout",
     "output_type": "stream",
     "text": [
      "{'text': ' Mei is a Chinese name that can be written using different characters, each with its own meaning. It represents beauty, grace, and elegance. In Mandarin, it means \"graceful.\"\\n'}\n",
      "{'text': 'One day, a little girl named Lily found a needle in her room. She knew it was difficult to play with it because it was sharp. Lily wanted to share the needle with her mom, so she could sew a button on her shirt.\\n\\nLily went to her mom and said, \"Mom, I found this needle. Can you share it with me and sew my shirt?\" Her mom smiled and said, \"Yes, Lily, we can share the needle and fix your shirt.\"\\n\\nTogether, they shared the needle and sewed the button on Lily\\'s shirt. It was not difficult for them because they were sharing and helping each other. After they finished, Lily thanked her mom for sharing the needle and fixing her shirt. They both felt happy because they had shared and worked together.'}\n",
      "{'text': ' Adding is an operation that combines two or more numbers, variables, or values to get their sum. It is represented by the \"+\" symbol. In mathematics, addition can be performed using a calculator or mental math. In programming, the \"++\" operator adds one to a variable and then returns its new value. Adding is an essential concept in arithmetic and is used in various applications such as accounting, physics, and computer science.\\n'}\n",
      "{'text': 'Once upon a time, there was a little car named Beep. Beep loved to go fast and play in the sun. Beep was a healthy car because he always had good fuel. Good fuel made Beep happy and strong.\\n\\nOne day, Beep was driving in the park when he saw a big tree. The tree had many leaves that were falling. Beep liked how the leaves fall and wanted to play with them. Beep drove under the tree and watched the leaves fall on him. He laughed and beeped his horn.\\n\\nBeep played with the falling leaves all day. When it was time to go home, Beep knew he needed more fuel. He went to the fuel place and got more healthy fuel. Now, Beep was ready to go fast and play again the next day. And Beep lived happily ever after.'}\n",
      "{'text': ' An \"overclock\" is when you increase the speed of a device or component beyond its default settings, usually by running at a higher frequency. It can improve performance but also increases heat and risk of damage if not done properly. Overclocking requires specialized knowledge and tools to do safely.\\n'}\n",
      "{'text': 'One day, a little fish named Fin was swimming near the shore. He saw a big crab and wanted to be friends. \"Hi, I am Fin. Do you want to play?\" asked the little fish. The crab looked at Fin and said, \"No, I don\\'t want to play. I am cold and I don\\'t feel fine.\"\\n\\nFin felt sad but wanted to help the crab feel better. He swam away and thought of a plan. He remembered that the sun could make things warm. So, Fin swam to the top of the water and called to the sun, \"Please, sun, help my new friend feel fine and not freeze!\"\\n\\nThe sun heard Fin\\'s call and shone its warm light on the shore. The crab started to feel better and not so cold. He saw Fin and said, \"Thank you, little fish, for making me feel fine. I don\\'t feel like I will freeze now. Let\\'s play together!\" And so, Fin and the crab played and became good friends.'}\n",
      "{'text': ' Deleting is the process of removing or erasing something from a system, such as data, files, or storage space. It can be done manually or through automated processes. It requires careful consideration, especially when dealing with sensitive information, to ensure that there are no unintended consequences. In digital systems, deleting involves clearing up space and optimizing performance.\\n'}\n",
      "{'text': 'Once upon a time, in a land full of trees, there was a little cherry tree. The cherry tree was very sad because it did not have any friends. All the other trees were big and strong, but the cherry tree was small and weak. The cherry tree was envious of the big trees.\\n\\nOne day, the cherry tree felt a tickle in its branches. It was a little spring wind. The wind told the cherry tree not to be sad. The wind said, \"You are special because you have sweet cherries that everyone loves.\" The cherry tree started to feel a little better.\\n\\nAs time went on, the cherry tree grew more and more cherries. All the animals in the land came to eat the cherries and play under the cherry tree. The cherry tree was happy because it had many friends now. The cherry tree learned that being different can be a good thing. And they all lived happily ever after.'}\n",
      "{'text': ' Outraged is a strong emotion of extreme anger or indignation caused by a perceived injustice or offense. It usually involves feeling strongly that something is wrong, and often leads to taking action against it. People might feel outraged when they witness discrimination, violence, or other forms of mistreatment towards others.\\n'}\n",
      "{'text': 'Once upon a time, there was a little girl named Lily. Lily liked to pretend she was a popular princess. She lived in a big castle with her best friends, a cat and a dog.\\n\\nOne day, while playing in the castle, Lily found a big cobweb. The cobweb was in the way of her fun game. She wanted to get rid of it, but she was scared of the spider that lived there.\\n\\nLily asked her friends, the cat and the dog, to help her. They all worked together to clean the cobweb. The spider was sad, but it found a new home outside. Lily, the cat, and the dog were happy they could play without the cobweb in the way. And they all lived happily ever after.'}\n",
      "{'text': ' Van is both a surname and a given name, meaning \"from or belonging to the village\". It can also be used as a slang term for a car with a loud engine. Many notable people have this name, including actors, musicians, and athletes. The word has been used in popular culture, such as in books, TV shows, and movies.\\n'}\n",
      "{'text': 'Once upon a time, in a big lake, there was a brown kayak. The brown kayak liked to roll in the water all day long. It was very happy when it could roll and splash in the lake.\\n\\nOne day, a little boy named Tim came to play with the brown kayak. Tim and the brown kayak rolled in the water together. They laughed and had a lot of fun. The sun was shining, and the water was warm.\\n\\nAfter a while, it was time for Tim to go home. He said goodbye to the brown kayak and gave it a big hug. The brown kayak was sad to see Tim go, but it knew they would play together again soon. So, the brown kayak kept rolling in the water, waiting for the next fun day with Tim.'}\n",
      "{'text': ' \"Outs\" is an English slang term used in the business world that refers to something that is given away for free or at a very low cost, usually as an incentive to promote a product or service. It can also refer to someone who is paid less than others, known as being under-compensated.\\n'}\n",
      "{'text': 'Once upon a time, in a small town, there was a troubled little girl named Lily. She was always sad because she lost her favorite toy, a triangle. She looked everywhere in her house but could not find it.\\n\\nOne sunny day, Lily went to the park to play. She saw a big puddle of water and thought her triangle might be there. She put her hand in the water to soak it and looked for her toy. She felt something at the bottom of the puddle.\\n\\nLily pulled it out and saw that it was her triangle! She was so happy that she found it. From that day on, Lily was never troubled again. She played with her triangle every day and always kept it close to her. And when she saw puddles, she would smile and remember how she found her toy.'}\n",
      "{'text': \" Descendants are individuals who can trace their family tree back to a common ancestor. They inherit genetic traits from their ancestors and may have shared experiences or cultural practices. Understanding one's descendants is an important part of many cultures and can help us learn more about our past. #familytree #descendants\\n\"}\n",
      "{'text': 'Once upon a time, in a peaceful town, there lived a little boy named Tim. Tim loved to run and play outside. One day, Tim saw a race in the park. He was excited and wanted to join the race.\\n\\nTim went to his friend, Sarah, and said, \"Let\\'s start the race!\" Sarah smiled and said, \"Yes, let\\'s go!\" They lined up with the other kids and waited for the race to begin. When they heard the word \"Go!\", they started running as fast as they could.\\n\\nTim and Sarah ran with all their speed, laughing and having fun. They could feel the wind in their hair as they raced to the finish line. In the end, Tim won the race and Sarah came in second. They were both so happy and proud of themselves. They celebrated with their friends and had a great day at the park.'}\n",
      "{'text': \" Dopamine is a neurotransmitter associated with pleasure, reward, and motivation. It plays a key role in our brain's reward system and is linked to feelings of happiness, satisfaction, and enjoyment. Dysfunction in the dopamine system has been implicated in several mental health conditions, including addiction, depression, and Parkinson's disease.\\n\"}\n",
      "{'text': 'Once upon a time, there was a clever little dog named Max. Max loved to run and play with his friends in the park. One day, Max was running very fast when he fell and hurt his knee.\\n\\nMax went to his friend, the wise old owl, and said, \"Owl, my knee hurts. What can I do?\" The owl thought for a moment and said, \"Max, you should test your knee. Try to walk slowly and see if it still hurts.\"\\n\\nSo Max tested his knee by walking slowly. At first, it hurt a little, but soon Max felt better. He said, \"Thank you, Owl, for your help. Now I can play with my friends again.\"\\n\\nMax was so happy that he could play with his friends without pain. He learned that sometimes, it was good to slow down and listen to his body. And Max and his friends played happily in the park ever after.'}\n",
      "{'text': ' Thirst is the feeling of needing to drink water or other fluids to stay hydrated. It can also refer to the desire for something else, such as a certain type of food or experience. In some contexts, it may be used metaphorically to describe a strong need or craving.\\n'}\n"
     ]
    }
   ],
   "source": [
    "for sample in dataset:\n",
    "    print(sample)"
   ]
  },
  {
   "cell_type": "code",
   "execution_count": null,
   "id": "32e432c8-06fa-490e-baa5-264c45c380de",
   "metadata": {},
   "outputs": [],
   "source": []
  }
 ],
 "metadata": {
  "kernelspec": {
   "display_name": "Python 3 (ipykernel)",
   "language": "python",
   "name": "python3"
  },
  "language_info": {
   "codemirror_mode": {
    "name": "ipython",
    "version": 3
   },
   "file_extension": ".py",
   "mimetype": "text/x-python",
   "name": "python",
   "nbconvert_exporter": "python",
   "pygments_lexer": "ipython3",
   "version": "3.10.12"
  }
 },
 "nbformat": 4,
 "nbformat_minor": 5
}
